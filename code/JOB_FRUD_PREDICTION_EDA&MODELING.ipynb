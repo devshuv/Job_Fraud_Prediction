{
 "cells": [
  {
   "cell_type": "markdown",
   "metadata": {},
   "source": [
    "# **Data Gathering and Exploring**"
   ]
  },
  {
   "cell_type": "code",
   "execution_count": null,
   "metadata": {
    "_cell_guid": "b1076dfc-b9ad-4769-8c92-a6c4dae69d19",
    "_uuid": "8f2839f25d086af736a60e9eeb907d3b93b6e0e5",
    "execution": {
     "iopub.execute_input": "2024-10-10T06:35:43.921289Z",
     "iopub.status.busy": "2024-10-10T06:35:43.920906Z",
     "iopub.status.idle": "2024-10-10T06:35:43.93001Z",
     "shell.execute_reply": "2024-10-10T06:35:43.928997Z",
     "shell.execute_reply.started": "2024-10-10T06:35:43.921253Z"
    },
    "trusted": true
   },
   "outputs": [],
   "source": [
    "# Import Libraries\n",
    "import os\n",
    "import warnings\n",
    "warnings.filterwarnings('ignore')\n",
    "\n",
    "import pandas as pd\n",
    "import numpy as np\n",
    "import matplotlib.pyplot as plt\n",
    "import seaborn as sns\n",
    "\n",
    "from sklearn.model_selection import train_test_split\n",
    "from sklearn.feature_extraction.text import TfidfVectorizer\n",
    "from sklearn.pipeline import Pipeline\n",
    "from sklearn.preprocessing import LabelEncoder\n",
    "from sklearn.ensemble import RandomForestClassifier\n",
    "from sklearn.metrics import classification_report, confusion_matrix\n",
    "import re\n",
    "from sklearn.utils import resample\n",
    "from imblearn.over_sampling import SMOTE\n",
    "\n",
    "from keras.models import Sequential\n",
    "from keras.layers import Embedding, LSTM, GRU, RNN, Dense, Dropout, Bidirectional, SimpleRNN, SpatialDropout1D\n",
    "from transformers import BertTokenizer, TFBertModel\n",
    "from keras.callbacks import EarlyStopping, ModelCheckpoint, ReduceLROnPlateau\n",
    "from imblearn.over_sampling import RandomOverSampler\n",
    "\n",
    "\n",
    "# Import necessary libraries\n",
    "import tensorflow as tf\n",
    "from tensorflow.keras.models import Sequential\n",
    "from tensorflow.keras.layers import Embedding, LSTM, Dense, Dropout"
   ]
  },
  {
   "cell_type": "code",
   "execution_count": null,
   "metadata": {
    "execution": {
     "iopub.execute_input": "2024-10-10T06:09:12.603339Z",
     "iopub.status.busy": "2024-10-10T06:09:12.602969Z",
     "iopub.status.idle": "2024-10-10T06:09:13.293948Z",
     "shell.execute_reply": "2024-10-10T06:09:13.292911Z",
     "shell.execute_reply.started": "2024-10-10T06:09:12.603297Z"
    },
    "trusted": true
   },
   "outputs": [],
   "source": [
    "# Load the Dataset\n",
    "df = pd.read_csv('/kaggle/input/real-or-fake-fake-jobposting-prediction/fake_job_postings.csv')"
   ]
  },
  {
   "cell_type": "code",
   "execution_count": null,
   "metadata": {
    "execution": {
     "iopub.execute_input": "2024-10-10T06:09:13.296848Z",
     "iopub.status.busy": "2024-10-10T06:09:13.29643Z",
     "iopub.status.idle": "2024-10-10T06:09:13.304812Z",
     "shell.execute_reply": "2024-10-10T06:09:13.303885Z",
     "shell.execute_reply.started": "2024-10-10T06:09:13.296801Z"
    },
    "trusted": true
   },
   "outputs": [],
   "source": [
    "# Get the dimensions of the Dataset\n",
    "print(\"Dimensions of the Dataset (Rows, Columns):\")\n",
    "df.shape"
   ]
  },
  {
   "cell_type": "code",
   "execution_count": null,
   "metadata": {
    "execution": {
     "iopub.execute_input": "2024-10-10T06:09:13.306793Z",
     "iopub.status.busy": "2024-10-10T06:09:13.306047Z",
     "iopub.status.idle": "2024-10-10T06:09:13.329746Z",
     "shell.execute_reply": "2024-10-10T06:09:13.328729Z",
     "shell.execute_reply.started": "2024-10-10T06:09:13.306747Z"
    },
    "trusted": true
   },
   "outputs": [],
   "source": [
    "# Display the Initial rows in dataset\n",
    "print(\"Initial rows in in dataset:\")\n",
    "df.head()"
   ]
  },
  {
   "cell_type": "code",
   "execution_count": null,
   "metadata": {
    "execution": {
     "iopub.execute_input": "2024-10-10T06:09:13.333939Z",
     "iopub.status.busy": "2024-10-10T06:09:13.333215Z",
     "iopub.status.idle": "2024-10-10T06:09:13.338968Z",
     "shell.execute_reply": "2024-10-10T06:09:13.338008Z",
     "shell.execute_reply.started": "2024-10-10T06:09:13.33389Z"
    },
    "trusted": true
   },
   "outputs": [],
   "source": [
    "# Removing any leading, and trailing whitespaces in columns\n",
    "df.columns = df.columns.str.strip()"
   ]
  },
  {
   "cell_type": "code",
   "execution_count": null,
   "metadata": {
    "execution": {
     "iopub.execute_input": "2024-10-10T06:09:13.340449Z",
     "iopub.status.busy": "2024-10-10T06:09:13.340148Z",
     "iopub.status.idle": "2024-10-10T06:09:13.37691Z",
     "shell.execute_reply": "2024-10-10T06:09:13.375768Z",
     "shell.execute_reply.started": "2024-10-10T06:09:13.340417Z"
    },
    "trusted": true
   },
   "outputs": [],
   "source": [
    "# Getting an overview of the features and their types in the dataset\n",
    "print(\"Overview of the features and their types:\")\n",
    "df.info()"
   ]
  },
  {
   "cell_type": "code",
   "execution_count": null,
   "metadata": {
    "execution": {
     "iopub.execute_input": "2024-10-10T06:09:13.378706Z",
     "iopub.status.busy": "2024-10-10T06:09:13.378358Z",
     "iopub.status.idle": "2024-10-10T06:09:13.389853Z",
     "shell.execute_reply": "2024-10-10T06:09:13.388653Z",
     "shell.execute_reply.started": "2024-10-10T06:09:13.378655Z"
    },
    "trusted": true
   },
   "outputs": [],
   "source": [
    "# Count the number of columns with dtype 'object'\n",
    "object_cols = df.select_dtypes(include=['object']).columns\n",
    "num_object_cols = len(object_cols)\n",
    "\n",
    "# Count the number of columns with dtype 'int64'\n",
    "int_cols = df.select_dtypes(include=['int64']).columns\n",
    "num_int_cols = len(int_cols)\n",
    "\n",
    "print(f\"Number of columns with object dtype: {num_object_cols}\")\n",
    "print(f\"Number of columns with int64 dtype: {num_int_cols}\")"
   ]
  },
  {
   "cell_type": "markdown",
   "metadata": {},
   "source": [
    "**Dealing with Missing Values**"
   ]
  },
  {
   "cell_type": "code",
   "execution_count": null,
   "metadata": {
    "execution": {
     "iopub.execute_input": "2024-10-10T06:09:13.391822Z",
     "iopub.status.busy": "2024-10-10T06:09:13.391233Z",
     "iopub.status.idle": "2024-10-10T06:09:13.424587Z",
     "shell.execute_reply": "2024-10-10T06:09:13.42346Z",
     "shell.execute_reply.started": "2024-10-10T06:09:13.391768Z"
    },
    "trusted": true
   },
   "outputs": [],
   "source": [
    "# Check for missing values\n",
    "print('Null Values in Each Column:\\n')\n",
    "print(df.isnull().sum())"
   ]
  },
  {
   "cell_type": "code",
   "execution_count": null,
   "metadata": {
    "execution": {
     "iopub.execute_input": "2024-10-10T06:09:13.426649Z",
     "iopub.status.busy": "2024-10-10T06:09:13.426211Z",
     "iopub.status.idle": "2024-10-10T06:09:13.468386Z",
     "shell.execute_reply": "2024-10-10T06:09:13.467246Z",
     "shell.execute_reply.started": "2024-10-10T06:09:13.426601Z"
    },
    "trusted": true
   },
   "outputs": [],
   "source": [
    "# View percentage of missing values per column\n",
    "print('Percent of Null Values in Each Column:\\n')\n",
    "print(df.isnull().mean() * 100)"
   ]
  },
  {
   "cell_type": "code",
   "execution_count": null,
   "metadata": {
    "execution": {
     "iopub.execute_input": "2024-10-10T06:09:13.470164Z",
     "iopub.status.busy": "2024-10-10T06:09:13.469817Z",
     "iopub.status.idle": "2024-10-10T06:09:13.838827Z",
     "shell.execute_reply": "2024-10-10T06:09:13.837833Z",
     "shell.execute_reply.started": "2024-10-10T06:09:13.47013Z"
    },
    "trusted": true
   },
   "outputs": [],
   "source": [
    "# Count and display percentage of missing values\n",
    "missing_percent = (df.isnull().sum() / len(df)) * 100\n",
    "missing_percent = missing_percent[missing_percent > 0].sort_values(ascending=False)\n",
    "\n",
    "plt.figure(figsize=(10, 6))\n",
    "missing_percent.plot(kind='bar', color='skyblue')\n",
    "plt.title('Percentage of Missing Values by Column')\n",
    "plt.ylabel('% of Missing Values')\n",
    "plt.xlabel('Columns')\n",
    "plt.show()"
   ]
  },
  {
   "cell_type": "code",
   "execution_count": null,
   "metadata": {
    "execution": {
     "iopub.execute_input": "2024-10-10T06:09:13.840392Z",
     "iopub.status.busy": "2024-10-10T06:09:13.84008Z",
     "iopub.status.idle": "2024-10-10T06:09:13.874231Z",
     "shell.execute_reply": "2024-10-10T06:09:13.873266Z",
     "shell.execute_reply.started": "2024-10-10T06:09:13.840358Z"
    },
    "trusted": true
   },
   "outputs": [],
   "source": [
    "# For text columns, replace missing values with Missing\n",
    "text_columns = ['title', 'company_profile', 'description', 'requirements', 'benefits']\n",
    "df[text_columns] = df[text_columns].fillna('Missing')"
   ]
  },
  {
   "cell_type": "code",
   "execution_count": null,
   "metadata": {
    "execution": {
     "iopub.execute_input": "2024-10-10T06:09:13.876179Z",
     "iopub.status.busy": "2024-10-10T06:09:13.875738Z",
     "iopub.status.idle": "2024-10-10T06:09:13.902305Z",
     "shell.execute_reply": "2024-10-10T06:09:13.901291Z",
     "shell.execute_reply.started": "2024-10-10T06:09:13.876132Z"
    },
    "trusted": true
   },
   "outputs": [],
   "source": [
    "# For other categorical columns, replace missing values with relevant placeholders\n",
    "df['location'].fillna('Unknown', inplace=True)\n",
    "df['department'].fillna('Unknown', inplace=True)\n",
    "df['salary_range'].fillna('Not Specified', inplace=True)\n",
    "df['employment_type'].fillna('Not Specified', inplace=True)\n",
    "df['required_experience'].fillna('Not Specified', inplace=True)\n",
    "df['required_education'].fillna('Not Specified', inplace=True)\n",
    "df['industry'].fillna('Not Specified', inplace=True)\n",
    "df['function'].fillna('Not Specified', inplace=True)"
   ]
  },
  {
   "cell_type": "markdown",
   "metadata": {},
   "source": [
    "**Some Visualizations**"
   ]
  },
  {
   "cell_type": "code",
   "execution_count": null,
   "metadata": {
    "execution": {
     "iopub.execute_input": "2024-10-10T06:09:13.903968Z",
     "iopub.status.busy": "2024-10-10T06:09:13.903611Z",
     "iopub.status.idle": "2024-10-10T06:09:13.910725Z",
     "shell.execute_reply": "2024-10-10T06:09:13.909532Z",
     "shell.execute_reply.started": "2024-10-10T06:09:13.903932Z"
    },
    "trusted": true
   },
   "outputs": [],
   "source": [
    "print(\"Fraudulent Value Counts:\")\n",
    "print(df['fraudulent'].value_counts())"
   ]
  },
  {
   "cell_type": "code",
   "execution_count": null,
   "metadata": {
    "execution": {
     "iopub.execute_input": "2024-10-10T06:09:13.916105Z",
     "iopub.status.busy": "2024-10-10T06:09:13.915717Z",
     "iopub.status.idle": "2024-10-10T06:09:13.924505Z",
     "shell.execute_reply": "2024-10-10T06:09:13.923469Z",
     "shell.execute_reply.started": "2024-10-10T06:09:13.916068Z"
    },
    "trusted": true
   },
   "outputs": [],
   "source": [
    "# Calculate the total number of job postings\n",
    "total_postings = len(df)\n",
    "\n",
    "# Calculate the number of fraudulent postings\n",
    "fraudulent_postings = df['fraudulent'].value_counts().get(1, 0) \n",
    "\n",
    "# Calculate the percentage of fraudulent postings\n",
    "fraud_percentage = (fraudulent_postings / total_postings) * 100\n",
    "\n",
    "print(f'Total Job Postings: {total_postings}')\n",
    "print(f'Number of Fraudulent Postings: {fraudulent_postings}')\n",
    "print(f'Percentage of Fraudulent Postings: {fraud_percentage:.2f}%')"
   ]
  },
  {
   "cell_type": "code",
   "execution_count": null,
   "metadata": {
    "execution": {
     "iopub.execute_input": "2024-10-10T06:09:13.926633Z",
     "iopub.status.busy": "2024-10-10T06:09:13.925926Z",
     "iopub.status.idle": "2024-10-10T06:09:14.178485Z",
     "shell.execute_reply": "2024-10-10T06:09:14.177496Z",
     "shell.execute_reply.started": "2024-10-10T06:09:13.926579Z"
    },
    "trusted": true
   },
   "outputs": [],
   "source": [
    "# Bar plot for fraudulent (target) feature\n",
    "plt.figure(figsize=(6, 4))\n",
    "sns.countplot(x='fraudulent', data=df)\n",
    "plt.title('Distribution of Fraudulent Job Postings')\n",
    "plt.show()"
   ]
  },
  {
   "cell_type": "code",
   "execution_count": null,
   "metadata": {
    "execution": {
     "iopub.execute_input": "2024-10-10T06:09:14.180057Z",
     "iopub.status.busy": "2024-10-10T06:09:14.17974Z",
     "iopub.status.idle": "2024-10-10T06:09:17.618149Z",
     "shell.execute_reply": "2024-10-10T06:09:17.617256Z",
     "shell.execute_reply.started": "2024-10-10T06:09:14.180024Z"
    },
    "trusted": true
   },
   "outputs": [],
   "source": [
    "# Bar plot for employment_type\n",
    "plt.figure(figsize=(10, 6))\n",
    "sns.barplot(data=df, x='employment_type', y='fraudulent', estimator=sum)\n",
    "plt.title('Fraudulent Postings by Employment Type')\n",
    "plt.xlabel('Employment Type')\n",
    "plt.ylabel('Sum of Fraudulent Postings')\n",
    "plt.xticks(rotation=45)\n",
    "plt.show()"
   ]
  },
  {
   "cell_type": "markdown",
   "metadata": {},
   "source": [
    "> Most jobs with fraud are the full time jobs, the least are with Temporary employment"
   ]
  },
  {
   "cell_type": "code",
   "execution_count": null,
   "metadata": {
    "execution": {
     "iopub.execute_input": "2024-10-10T06:09:17.619788Z",
     "iopub.status.busy": "2024-10-10T06:09:17.619465Z",
     "iopub.status.idle": "2024-10-10T06:09:21.200489Z",
     "shell.execute_reply": "2024-10-10T06:09:21.199592Z",
     "shell.execute_reply.started": "2024-10-10T06:09:17.619754Z"
    },
    "trusted": true
   },
   "outputs": [],
   "source": [
    "# Bar plot for required_experience\n",
    "plt.figure(figsize=(10, 6))\n",
    "sns.barplot(data=df, x='required_experience', y='fraudulent', estimator=sum)\n",
    "plt.title('Fraudulent Postings by Required Experience')\n",
    "plt.xlabel('Required Experience')\n",
    "plt.ylabel('Sum of Fraudulent Postings')\n",
    "plt.xticks(rotation=45)\n",
    "plt.show()"
   ]
  },
  {
   "cell_type": "markdown",
   "metadata": {},
   "source": [
    "> Most jobs with fraud are Not Specified in the Required Experience, the least are with Executive and Internship Required Experience"
   ]
  },
  {
   "cell_type": "code",
   "execution_count": null,
   "metadata": {
    "execution": {
     "iopub.execute_input": "2024-10-10T06:09:21.201941Z",
     "iopub.status.busy": "2024-10-10T06:09:21.201602Z",
     "iopub.status.idle": "2024-10-10T06:09:24.978748Z",
     "shell.execute_reply": "2024-10-10T06:09:24.977861Z",
     "shell.execute_reply.started": "2024-10-10T06:09:21.201908Z"
    },
    "trusted": true
   },
   "outputs": [],
   "source": [
    "# Bar plot for required_education\n",
    "plt.figure(figsize=(20, 10))\n",
    "sns.barplot(data=df, x='required_education', y='fraudulent', estimator=sum)\n",
    "plt.title('Fraudulent Postings by Required Education')\n",
    "plt.xlabel('Required Education')\n",
    "plt.ylabel('Sum of Fraudulent Postings')\n",
    "plt.xticks(rotation = 90)\n",
    "plt.show()"
   ]
  },
  {
   "cell_type": "markdown",
   "metadata": {},
   "source": [
    "> Not Specified Education is the most that have the posibility of fraud Jop Application, Degrees of vocational or has a degree of Doctorate have the least possibility for being fraud"
   ]
  },
  {
   "cell_type": "code",
   "execution_count": null,
   "metadata": {
    "execution": {
     "iopub.execute_input": "2024-10-10T06:09:24.980514Z",
     "iopub.status.busy": "2024-10-10T06:09:24.980197Z",
     "iopub.status.idle": "2024-10-10T06:09:25.586527Z",
     "shell.execute_reply": "2024-10-10T06:09:25.585623Z",
     "shell.execute_reply.started": "2024-10-10T06:09:24.980479Z"
    },
    "trusted": true
   },
   "outputs": [],
   "source": [
    "# Calculate the sum of fraudulent postings by function\n",
    "fraudulent_summary = df.groupby('function')['fraudulent'].sum().reset_index()\n",
    "\n",
    "plt.figure(figsize=(25, 8))\n",
    "sns.lineplot(data=fraudulent_summary, x='function', y='fraudulent', marker='o')\n",
    "plt.title('Fraudulent Postings by Function')\n",
    "plt.xlabel('Function')\n",
    "plt.ylabel('Sum of Fraudulent Postings')\n",
    "plt.xticks(rotation=45)\n",
    "plt.grid(True) \n",
    "plt.show()"
   ]
  },
  {
   "cell_type": "markdown",
   "metadata": {},
   "source": [
    "> The most Fraud Job Application aren't Specified its Function, the Marketing Sector/ Field have the least opportunity to be Fraud"
   ]
  },
  {
   "cell_type": "markdown",
   "metadata": {},
   "source": [
    "# **Text preprocessing**"
   ]
  },
  {
   "cell_type": "code",
   "execution_count": null,
   "metadata": {
    "execution": {
     "iopub.execute_input": "2024-10-10T06:09:25.588155Z",
     "iopub.status.busy": "2024-10-10T06:09:25.587852Z",
     "iopub.status.idle": "2024-10-10T06:09:25.593238Z",
     "shell.execute_reply": "2024-10-10T06:09:25.592393Z",
     "shell.execute_reply.started": "2024-10-10T06:09:25.588122Z"
    },
    "trusted": true
   },
   "outputs": [],
   "source": [
    "# Text Preprocessing Function\n",
    "def preprocess_text(text):\n",
    "    text = text.lower()  # Convert to lowercase\n",
    "    text = re.sub(r'\\d+', '', text)  # Remove digits\n",
    "    text = re.sub(r'[^\\w\\s]', ' ', text)  # Remove punctuation\n",
    "    return text"
   ]
  },
  {
   "cell_type": "code",
   "execution_count": null,
   "metadata": {
    "execution": {
     "iopub.execute_input": "2024-10-10T06:09:25.594768Z",
     "iopub.status.busy": "2024-10-10T06:09:25.594439Z",
     "iopub.status.idle": "2024-10-10T06:09:29.710533Z",
     "shell.execute_reply": "2024-10-10T06:09:29.709507Z",
     "shell.execute_reply.started": "2024-10-10T06:09:25.594716Z"
    },
    "trusted": true
   },
   "outputs": [],
   "source": [
    "# Apply preprocessing to relevant text columns\n",
    "text_columns = ['title', 'company_profile', 'description', 'requirements', 'benefits']\n",
    "for col in text_columns:\n",
    "    df[col] = df[col].apply(preprocess_text)"
   ]
  },
  {
   "cell_type": "markdown",
   "metadata": {},
   "source": [
    "# **ML Model by Random Forest Classification**"
   ]
  },
  {
   "cell_type": "code",
   "execution_count": null,
   "metadata": {
    "execution": {
     "iopub.execute_input": "2024-10-10T06:09:29.712415Z",
     "iopub.status.busy": "2024-10-10T06:09:29.712087Z",
     "iopub.status.idle": "2024-10-10T06:09:29.932613Z",
     "shell.execute_reply": "2024-10-10T06:09:29.931618Z",
     "shell.execute_reply.started": "2024-10-10T06:09:29.71238Z"
    },
    "trusted": true
   },
   "outputs": [],
   "source": [
    "# Combine Text Features\n",
    "df['combined_text'] = df[text_columns].agg(' '.join, axis=1)"
   ]
  },
  {
   "cell_type": "code",
   "execution_count": null,
   "metadata": {
    "execution": {
     "iopub.execute_input": "2024-10-10T06:09:29.934409Z",
     "iopub.status.busy": "2024-10-10T06:09:29.934094Z",
     "iopub.status.idle": "2024-10-10T06:09:29.944768Z",
     "shell.execute_reply": "2024-10-10T06:09:29.943745Z",
     "shell.execute_reply.started": "2024-10-10T06:09:29.934375Z"
    },
    "trusted": true
   },
   "outputs": [],
   "source": [
    "# Vectorization\n",
    "# Using TF-IDF for text vectorization\n",
    "tfidf_vectorizer = TfidfVectorizer(max_features=5000) "
   ]
  },
  {
   "cell_type": "code",
   "execution_count": null,
   "metadata": {
    "execution": {
     "iopub.execute_input": "2024-10-10T06:09:29.946287Z",
     "iopub.status.busy": "2024-10-10T06:09:29.945989Z",
     "iopub.status.idle": "2024-10-10T06:09:29.968121Z",
     "shell.execute_reply": "2024-10-10T06:09:29.967234Z",
     "shell.execute_reply.started": "2024-10-10T06:09:29.946255Z"
    },
    "trusted": true
   },
   "outputs": [],
   "source": [
    "# Train-Test Split\n",
    "X = df['combined_text']  # Feature set\n",
    "y = df['fraudulent']  # Target variable\n",
    "X_train, X_test, y_train, y_test = train_test_split(X, y, test_size=0.2, random_state=42, stratify=y)"
   ]
  },
  {
   "cell_type": "code",
   "execution_count": null,
   "metadata": {
    "execution": {
     "iopub.execute_input": "2024-10-10T06:09:29.970218Z",
     "iopub.status.busy": "2024-10-10T06:09:29.96982Z",
     "iopub.status.idle": "2024-10-10T06:09:37.78933Z",
     "shell.execute_reply": "2024-10-10T06:09:37.788322Z",
     "shell.execute_reply.started": "2024-10-10T06:09:29.970174Z"
    },
    "trusted": true
   },
   "outputs": [],
   "source": [
    "# Fit the vectorizer on training data and transform\n",
    "X_train_tfidf = tfidf_vectorizer.fit_transform(X_train)\n",
    "X_test_tfidf = tfidf_vectorizer.transform(X_test)"
   ]
  },
  {
   "cell_type": "code",
   "execution_count": null,
   "metadata": {
    "execution": {
     "iopub.execute_input": "2024-10-10T06:09:37.790814Z",
     "iopub.status.busy": "2024-10-10T06:09:37.790469Z",
     "iopub.status.idle": "2024-10-10T06:09:42.201249Z",
     "shell.execute_reply": "2024-10-10T06:09:42.200376Z",
     "shell.execute_reply.started": "2024-10-10T06:09:37.790778Z"
    },
    "trusted": true
   },
   "outputs": [],
   "source": [
    "# Resampling: Apply SMOTE to the training data\n",
    "smote = SMOTE(random_state=42)\n",
    "X_smote, y_smote = smote.fit_resample(X_train_tfidf, y_train)"
   ]
  },
  {
   "cell_type": "code",
   "execution_count": null,
   "metadata": {
    "execution": {
     "iopub.execute_input": "2024-10-10T06:09:42.202924Z",
     "iopub.status.busy": "2024-10-10T06:09:42.202572Z",
     "iopub.status.idle": "2024-10-10T06:09:42.210206Z",
     "shell.execute_reply": "2024-10-10T06:09:42.209251Z",
     "shell.execute_reply.started": "2024-10-10T06:09:42.202887Z"
    },
    "trusted": true
   },
   "outputs": [],
   "source": [
    "# Check the new class distribution after SMOTE\n",
    "smote_class_distribution = pd.Series(y_smote).value_counts(normalize=True)\n",
    "print(\"New Class Distribution after SMOTE:\\n\", smote_class_distribution)"
   ]
  },
  {
   "cell_type": "code",
   "execution_count": null,
   "metadata": {
    "execution": {
     "iopub.execute_input": "2024-10-10T06:09:42.211831Z",
     "iopub.status.busy": "2024-10-10T06:09:42.211501Z",
     "iopub.status.idle": "2024-10-10T06:09:42.681021Z",
     "shell.execute_reply": "2024-10-10T06:09:42.680031Z",
     "shell.execute_reply.started": "2024-10-10T06:09:42.211799Z"
    },
    "trusted": true
   },
   "outputs": [],
   "source": [
    "plt.figure(figsize=(12, 5))\n",
    "\n",
    "plt.subplot(1, 2, 1)\n",
    "sns.countplot(x=y_train)\n",
    "plt.title('Original Class Distribution')\n",
    "plt.xlabel('Class')\n",
    "plt.ylabel('Count')\n",
    "\n",
    "plt.subplot(1, 2, 2)\n",
    "sns.countplot(x=y_smote)\n",
    "plt.title('Class Distribution After SMOTE')\n",
    "plt.xlabel('Class')\n",
    "plt.ylabel('Count')\n",
    "\n",
    "plt.tight_layout()\n",
    "plt.show()"
   ]
  },
  {
   "cell_type": "code",
   "execution_count": null,
   "metadata": {
    "execution": {
     "iopub.execute_input": "2024-10-10T06:09:42.683982Z",
     "iopub.status.busy": "2024-10-10T06:09:42.683615Z",
     "iopub.status.idle": "2024-10-10T06:10:19.484925Z",
     "shell.execute_reply": "2024-10-10T06:10:19.48404Z",
     "shell.execute_reply.started": "2024-10-10T06:09:42.683946Z"
    },
    "trusted": true
   },
   "outputs": [],
   "source": [
    "# Model Selection and Training\n",
    "model = RandomForestClassifier(random_state=42)\n",
    "model.fit(X_smote, y_smote) "
   ]
  },
  {
   "cell_type": "code",
   "execution_count": null,
   "metadata": {
    "execution": {
     "iopub.execute_input": "2024-10-10T06:10:19.48681Z",
     "iopub.status.busy": "2024-10-10T06:10:19.486394Z",
     "iopub.status.idle": "2024-10-10T06:10:19.753289Z",
     "shell.execute_reply": "2024-10-10T06:10:19.752232Z",
     "shell.execute_reply.started": "2024-10-10T06:10:19.486765Z"
    },
    "trusted": true
   },
   "outputs": [],
   "source": [
    "# Evaluation\n",
    "y_pred = model.predict(X_test_tfidf)"
   ]
  },
  {
   "cell_type": "code",
   "execution_count": null,
   "metadata": {
    "execution": {
     "iopub.execute_input": "2024-10-10T06:10:19.755137Z",
     "iopub.status.busy": "2024-10-10T06:10:19.754727Z",
     "iopub.status.idle": "2024-10-10T06:10:19.776366Z",
     "shell.execute_reply": "2024-10-10T06:10:19.775352Z",
     "shell.execute_reply.started": "2024-10-10T06:10:19.755092Z"
    },
    "trusted": true
   },
   "outputs": [],
   "source": [
    "# Classification Report\n",
    "print(\"Classification Report:\\n\", classification_report(y_test, y_pred))"
   ]
  },
  {
   "cell_type": "code",
   "execution_count": null,
   "metadata": {
    "execution": {
     "iopub.execute_input": "2024-10-10T06:10:19.778098Z",
     "iopub.status.busy": "2024-10-10T06:10:19.777534Z",
     "iopub.status.idle": "2024-10-10T06:10:19.786019Z",
     "shell.execute_reply": "2024-10-10T06:10:19.785039Z",
     "shell.execute_reply.started": "2024-10-10T06:10:19.778064Z"
    },
    "trusted": true
   },
   "outputs": [],
   "source": [
    "# Confusion Matrix\n",
    "conf_matrix = confusion_matrix(y_test, y_pred)\n",
    "print(\"Confusion Matrix:\\n\", conf_matrix)"
   ]
  },
  {
   "cell_type": "code",
   "execution_count": null,
   "metadata": {
    "execution": {
     "iopub.execute_input": "2024-10-10T06:10:19.787634Z",
     "iopub.status.busy": "2024-10-10T06:10:19.787267Z",
     "iopub.status.idle": "2024-10-10T06:10:20.070716Z",
     "shell.execute_reply": "2024-10-10T06:10:20.069733Z",
     "shell.execute_reply.started": "2024-10-10T06:10:19.787591Z"
    },
    "trusted": true
   },
   "outputs": [],
   "source": [
    "# Visualizing the confusion matrix\n",
    "plt.figure(figsize=(8, 6))\n",
    "sns.heatmap(conf_matrix, annot=True, fmt='d', cmap='Blues', \n",
    "            xticklabels=['Real', 'Fake'], yticklabels=['Real', 'Fake'])\n",
    "plt.title('Confusion Matrix')\n",
    "plt.ylabel('Actual')\n",
    "plt.xlabel('Predicted')\n",
    "plt.show()"
   ]
  },
  {
   "cell_type": "markdown",
   "metadata": {},
   "source": [
    "# **Deep Learning: NLP**"
   ]
  },
  {
   "cell_type": "code",
   "execution_count": null,
   "metadata": {
    "execution": {
     "iopub.execute_input": "2024-10-10T06:10:20.072496Z",
     "iopub.status.busy": "2024-10-10T06:10:20.072192Z",
     "iopub.status.idle": "2024-10-10T06:10:20.078216Z",
     "shell.execute_reply": "2024-10-10T06:10:20.077341Z",
     "shell.execute_reply.started": "2024-10-10T06:10:20.072462Z"
    },
    "trusted": true
   },
   "outputs": [],
   "source": [
    "# Encode the target variable\n",
    "le = LabelEncoder()\n",
    "df['fraudulent'] = le.fit_transform(df['fraudulent'])"
   ]
  },
  {
   "cell_type": "code",
   "execution_count": null,
   "metadata": {
    "execution": {
     "iopub.execute_input": "2024-10-10T06:10:20.079676Z",
     "iopub.status.busy": "2024-10-10T06:10:20.079381Z",
     "iopub.status.idle": "2024-10-10T06:10:20.283522Z",
     "shell.execute_reply": "2024-10-10T06:10:20.282529Z",
     "shell.execute_reply.started": "2024-10-10T06:10:20.079638Z"
    },
    "trusted": true
   },
   "outputs": [],
   "source": [
    "# Combine text features into a single feature\n",
    "df['combined_text'] = df[text_columns].agg(' '.join, axis=1)"
   ]
  },
  {
   "cell_type": "code",
   "execution_count": null,
   "metadata": {
    "execution": {
     "iopub.execute_input": "2024-10-10T06:10:20.285011Z",
     "iopub.status.busy": "2024-10-10T06:10:20.284681Z",
     "iopub.status.idle": "2024-10-10T06:10:20.30292Z",
     "shell.execute_reply": "2024-10-10T06:10:20.30214Z",
     "shell.execute_reply.started": "2024-10-10T06:10:20.284977Z"
    },
    "trusted": true
   },
   "outputs": [],
   "source": [
    "# Train-Test Split\n",
    "X = df['combined_text']  # Feature set\n",
    "y = df['fraudulent']  # Target variable\n",
    "X_train, X_test, y_train, y_test = train_test_split(X, y, test_size=0.2, random_state=42, stratify=y)"
   ]
  },
  {
   "cell_type": "code",
   "execution_count": null,
   "metadata": {
    "execution": {
     "iopub.execute_input": "2024-10-10T06:10:20.304219Z",
     "iopub.status.busy": "2024-10-10T06:10:20.303955Z",
     "iopub.status.idle": "2024-10-10T06:10:20.406171Z",
     "shell.execute_reply": "2024-10-10T06:10:20.405261Z",
     "shell.execute_reply.started": "2024-10-10T06:10:20.304189Z"
    },
    "trusted": true
   },
   "outputs": [],
   "source": [
    "# Random Oversampling\n",
    "ros = RandomOverSampler(random_state=42)\n",
    "X_resampled, y_resampled = ros.fit_resample(X_train.values.reshape(-1, 1), y_train)"
   ]
  },
  {
   "cell_type": "code",
   "execution_count": null,
   "metadata": {
    "execution": {
     "iopub.execute_input": "2024-10-10T06:10:20.407661Z",
     "iopub.status.busy": "2024-10-10T06:10:20.407339Z",
     "iopub.status.idle": "2024-10-10T06:10:20.412876Z",
     "shell.execute_reply": "2024-10-10T06:10:20.411894Z",
     "shell.execute_reply.started": "2024-10-10T06:10:20.407628Z"
    },
    "trusted": true
   },
   "outputs": [],
   "source": [
    "# Preprocessing the text data\n",
    "def preprocess_text(text):\n",
    "    text = re.sub(r'\\W', ' ', text)  # Remove special characters\n",
    "    text = text.lower()  # Convert to lowercase\n",
    "    return text"
   ]
  },
  {
   "cell_type": "code",
   "execution_count": null,
   "metadata": {
    "execution": {
     "iopub.execute_input": "2024-10-10T06:10:20.414457Z",
     "iopub.status.busy": "2024-10-10T06:10:20.414158Z",
     "iopub.status.idle": "2024-10-10T06:10:25.786156Z",
     "shell.execute_reply": "2024-10-10T06:10:25.785094Z",
     "shell.execute_reply.started": "2024-10-10T06:10:20.414426Z"
    },
    "trusted": true
   },
   "outputs": [],
   "source": [
    "X_resampled = np.array([preprocess_text(text[0]) for text in X_resampled])"
   ]
  },
  {
   "cell_type": "code",
   "execution_count": null,
   "metadata": {
    "execution": {
     "iopub.execute_input": "2024-10-10T06:10:25.787766Z",
     "iopub.status.busy": "2024-10-10T06:10:25.787415Z",
     "iopub.status.idle": "2024-10-10T06:10:42.376695Z",
     "shell.execute_reply": "2024-10-10T06:10:42.375894Z",
     "shell.execute_reply.started": "2024-10-10T06:10:25.787731Z"
    },
    "trusted": true
   },
   "outputs": [],
   "source": [
    "# Tokenization and Padding\n",
    "from tensorflow.keras.preprocessing.text import Tokenizer\n",
    "from tensorflow.keras.preprocessing.sequence import pad_sequences\n",
    "\n",
    "max_length = 100  # Set the maximum length for padding\n",
    "tokenizer = Tokenizer(num_words=5000)\n",
    "tokenizer.fit_on_texts(X_resampled)  # Ensure X_resampled is defined\n",
    "X_sequences = tokenizer.texts_to_sequences(X_resampled)\n",
    "X_padded = pad_sequences(X_sequences, maxlen=max_length)"
   ]
  },
  {
   "cell_type": "code",
   "execution_count": null,
   "metadata": {
    "execution": {
     "iopub.execute_input": "2024-10-10T06:10:42.385016Z",
     "iopub.status.busy": "2024-10-10T06:10:42.384669Z",
     "iopub.status.idle": "2024-10-10T06:10:42.391377Z",
     "shell.execute_reply": "2024-10-10T06:10:42.390498Z",
     "shell.execute_reply.started": "2024-10-10T06:10:42.384982Z"
    },
    "trusted": true
   },
   "outputs": [],
   "source": [
    "# LSTM Model\n",
    "def build_lstm_model(input_length):\n",
    "    model = Sequential()\n",
    "    model.add(Embedding(input_dim=5000, output_dim=128, input_length=input_length))\n",
    "    model.add(LSTM(128, return_sequences=True))\n",
    "    model.add(Dropout(0.5))  # Adjust dropout rate\n",
    "    model.add(LSTM(64))\n",
    "    model.add(Dropout(0.5))\n",
    "    model.add(Dense(1, activation='sigmoid'))  # Binary classification\n",
    "    model.compile(loss='binary_crossentropy', optimizer='adam', metrics=['accuracy'])\n",
    "    return model"
   ]
  },
  {
   "cell_type": "code",
   "execution_count": null,
   "metadata": {
    "execution": {
     "iopub.execute_input": "2024-10-10T06:10:42.392793Z",
     "iopub.status.busy": "2024-10-10T06:10:42.392459Z",
     "iopub.status.idle": "2024-10-10T06:13:24.235144Z",
     "shell.execute_reply": "2024-10-10T06:13:24.234302Z",
     "shell.execute_reply.started": "2024-10-10T06:10:42.392761Z"
    },
    "trusted": true
   },
   "outputs": [],
   "source": [
    "# Training LSTM Model with Callbacks\n",
    "lstm_model = build_lstm_model(max_length)\n",
    "\n",
    "early_stopping = EarlyStopping(monitor='val_loss', patience=3, restore_best_weights=True)\n",
    "reduce_lr = ReduceLROnPlateau(monitor='val_loss', factor=0.2, patience=2, min_lr=1e-5)\n",
    "model_checkpoint = ModelCheckpoint('best_model.keras', monitor='val_loss', save_best_only=True)\n",
    "\n",
    "lstm_model.fit(X_padded, y_resampled, epochs=20, batch_size=32, validation_split=0.1,\n",
    "                callbacks=[early_stopping, reduce_lr, model_checkpoint])"
   ]
  },
  {
   "cell_type": "code",
   "execution_count": null,
   "metadata": {
    "execution": {
     "iopub.execute_input": "2024-10-10T06:13:24.236577Z",
     "iopub.status.busy": "2024-10-10T06:13:24.236274Z",
     "iopub.status.idle": "2024-10-10T06:13:25.955741Z",
     "shell.execute_reply": "2024-10-10T06:13:25.954744Z",
     "shell.execute_reply.started": "2024-10-10T06:13:24.236544Z"
    },
    "trusted": true
   },
   "outputs": [],
   "source": [
    "# Prepare Test Data for Prediction\n",
    "X_test_sequences = tokenizer.texts_to_sequences(X_test)\n",
    "X_test_padded = pad_sequences(X_test_sequences, maxlen=max_length)"
   ]
  },
  {
   "cell_type": "code",
   "execution_count": null,
   "metadata": {
    "execution": {
     "iopub.execute_input": "2024-10-10T06:13:25.957301Z",
     "iopub.status.busy": "2024-10-10T06:13:25.95699Z",
     "iopub.status.idle": "2024-10-10T06:13:26.865488Z",
     "shell.execute_reply": "2024-10-10T06:13:26.864621Z",
     "shell.execute_reply.started": "2024-10-10T06:13:25.957268Z"
    },
    "trusted": true
   },
   "outputs": [],
   "source": [
    "# Evaluate Model\n",
    "y_pred = lstm_model.predict(X_test_padded)\n",
    "y_pred_classes = (y_pred > 0.5).astype(int)"
   ]
  },
  {
   "cell_type": "code",
   "execution_count": null,
   "metadata": {
    "execution": {
     "iopub.execute_input": "2024-10-10T06:13:26.866977Z",
     "iopub.status.busy": "2024-10-10T06:13:26.866622Z",
     "iopub.status.idle": "2024-10-10T06:13:26.886655Z",
     "shell.execute_reply": "2024-10-10T06:13:26.885876Z",
     "shell.execute_reply.started": "2024-10-10T06:13:26.866943Z"
    },
    "trusted": true
   },
   "outputs": [],
   "source": [
    "# Classification Report\n",
    "print(\"LSTM Classification Report:\\n\", classification_report(y_test, y_pred_classes))"
   ]
  },
  {
   "cell_type": "code",
   "execution_count": null,
   "metadata": {
    "execution": {
     "iopub.execute_input": "2024-10-10T06:13:26.888024Z",
     "iopub.status.busy": "2024-10-10T06:13:26.887741Z",
     "iopub.status.idle": "2024-10-10T06:13:27.165415Z",
     "shell.execute_reply": "2024-10-10T06:13:27.164405Z",
     "shell.execute_reply.started": "2024-10-10T06:13:26.887993Z"
    },
    "trusted": true
   },
   "outputs": [],
   "source": [
    "# Confusion Matrix\n",
    "conf_matrix = confusion_matrix(y_test, y_pred_classes)\n",
    "plt.figure(figsize=(8, 6))\n",
    "sns.heatmap(conf_matrix, annot=True, fmt='d', cmap='Blues', \n",
    "            xticklabels=['Real', 'Fake'], yticklabels=['Real', 'Fake'])\n",
    "plt.title('LSTM Confusion Matrix')\n",
    "plt.ylabel('Actual')\n",
    "plt.xlabel('Predicted')\n",
    "plt.show()"
   ]
  },
  {
   "cell_type": "code",
   "execution_count": null,
   "metadata": {
    "execution": {
     "iopub.execute_input": "2024-10-10T06:13:27.166839Z",
     "iopub.status.busy": "2024-10-10T06:13:27.166523Z",
     "iopub.status.idle": "2024-10-10T06:13:27.173539Z",
     "shell.execute_reply": "2024-10-10T06:13:27.172527Z",
     "shell.execute_reply.started": "2024-10-10T06:13:27.166807Z"
    },
    "trusted": true
   },
   "outputs": [],
   "source": [
    "# Bidirectional GRU Model\n",
    "def build_gru_model(input_length):\n",
    "    model = Sequential()\n",
    "    model.add(Embedding(input_dim=5000, output_dim=128, input_length=input_length))\n",
    "    model.add(Bidirectional(GRU(128, return_sequences=True)))  # Bidirectional GRU\n",
    "    model.add(Dropout(0.5))  # Dropout to prevent overfitting\n",
    "    model.add(Bidirectional(GRU(64)))  # Another Bidirectional GRU layer\n",
    "    model.add(Dropout(0.5))\n",
    "    model.add(Dense(1, activation='sigmoid'))  # Binary classification\n",
    "    model.compile(loss='binary_crossentropy', optimizer='adam', metrics=['accuracy'])\n",
    "    return model"
   ]
  },
  {
   "cell_type": "code",
   "execution_count": null,
   "metadata": {
    "execution": {
     "iopub.execute_input": "2024-10-10T06:13:27.175913Z",
     "iopub.status.busy": "2024-10-10T06:13:27.174941Z",
     "iopub.status.idle": "2024-10-10T06:18:16.15824Z",
     "shell.execute_reply": "2024-10-10T06:18:16.157393Z",
     "shell.execute_reply.started": "2024-10-10T06:13:27.175876Z"
    },
    "trusted": true
   },
   "outputs": [],
   "source": [
    "# Training Bidirectional GRU Model with Callbacks\n",
    "gru_model = build_gru_model(max_length)\n",
    "\n",
    "early_stopping = EarlyStopping(monitor='val_loss', patience=3, restore_best_weights=True)\n",
    "reduce_lr = ReduceLROnPlateau(monitor='val_loss', factor=0.2, patience=2, min_lr=1e-5)\n",
    "model_checkpoint = ModelCheckpoint('best_gru_model.keras', monitor='val_loss', save_best_only=True)\n",
    "\n",
    "gru_model.fit(X_padded, y_resampled, epochs=20, batch_size=32, validation_split=0.1,\n",
    "               callbacks=[early_stopping, reduce_lr, model_checkpoint])"
   ]
  },
  {
   "cell_type": "code",
   "execution_count": null,
   "metadata": {
    "execution": {
     "iopub.execute_input": "2024-10-10T06:18:16.159763Z",
     "iopub.status.busy": "2024-10-10T06:18:16.159427Z",
     "iopub.status.idle": "2024-10-10T06:18:17.854694Z",
     "shell.execute_reply": "2024-10-10T06:18:17.853652Z",
     "shell.execute_reply.started": "2024-10-10T06:18:16.159729Z"
    },
    "trusted": true
   },
   "outputs": [],
   "source": [
    "# Prepare Test Data for Prediction\n",
    "X_test_sequences = tokenizer.texts_to_sequences(X_test)\n",
    "X_test_padded = pad_sequences(X_test_sequences, maxlen=max_length)"
   ]
  },
  {
   "cell_type": "code",
   "execution_count": null,
   "metadata": {
    "execution": {
     "iopub.execute_input": "2024-10-10T06:18:17.856135Z",
     "iopub.status.busy": "2024-10-10T06:18:17.855823Z",
     "iopub.status.idle": "2024-10-10T06:18:19.450444Z",
     "shell.execute_reply": "2024-10-10T06:18:19.449451Z",
     "shell.execute_reply.started": "2024-10-10T06:18:17.856103Z"
    },
    "trusted": true
   },
   "outputs": [],
   "source": [
    "# Evaluate Model\n",
    "y_pred = gru_model.predict(X_test_padded)\n",
    "y_pred_classes = (y_pred > 0.5).astype(int)"
   ]
  },
  {
   "cell_type": "code",
   "execution_count": null,
   "metadata": {
    "execution": {
     "iopub.execute_input": "2024-10-10T06:18:19.452207Z",
     "iopub.status.busy": "2024-10-10T06:18:19.451803Z",
     "iopub.status.idle": "2024-10-10T06:18:19.474356Z",
     "shell.execute_reply": "2024-10-10T06:18:19.473357Z",
     "shell.execute_reply.started": "2024-10-10T06:18:19.452171Z"
    },
    "trusted": true
   },
   "outputs": [],
   "source": [
    "# Classification Report\n",
    "print(\"GRU Classification Report:\\n\", classification_report(y_test, y_pred_classes))"
   ]
  },
  {
   "cell_type": "code",
   "execution_count": null,
   "metadata": {
    "execution": {
     "iopub.execute_input": "2024-10-10T06:18:19.476452Z",
     "iopub.status.busy": "2024-10-10T06:18:19.476043Z",
     "iopub.status.idle": "2024-10-10T06:18:19.484863Z",
     "shell.execute_reply": "2024-10-10T06:18:19.483963Z",
     "shell.execute_reply.started": "2024-10-10T06:18:19.476405Z"
    },
    "trusted": true
   },
   "outputs": [],
   "source": [
    "# Confusion Matrix\n",
    "conf_matrix_gru = confusion_matrix(y_test, y_pred_classes)\n",
    "print(\"GRU Confusion Matrix:\\n\", conf_matrix_gru)"
   ]
  },
  {
   "cell_type": "code",
   "execution_count": null,
   "metadata": {
    "execution": {
     "iopub.execute_input": "2024-10-10T06:18:19.486483Z",
     "iopub.status.busy": "2024-10-10T06:18:19.486137Z",
     "iopub.status.idle": "2024-10-10T06:18:19.77291Z",
     "shell.execute_reply": "2024-10-10T06:18:19.771983Z",
     "shell.execute_reply.started": "2024-10-10T06:18:19.486447Z"
    },
    "trusted": true
   },
   "outputs": [],
   "source": [
    "# Visualizing the confusion matrix\n",
    "plt.figure(figsize=(8, 6))\n",
    "sns.heatmap(conf_matrix_gru, annot=True, fmt='d', cmap='Blues', \n",
    "            xticklabels=['Real', 'Fake'], yticklabels=['Real', 'Fake'])\n",
    "plt.title('GRU Confusion Matrix')\n",
    "plt.ylabel('Actual')\n",
    "plt.xlabel('Predicted')\n",
    "plt.show()"
   ]
  },
  {
   "cell_type": "code",
   "execution_count": null,
   "metadata": {
    "execution": {
     "iopub.execute_input": "2024-10-10T06:18:19.774529Z",
     "iopub.status.busy": "2024-10-10T06:18:19.774159Z",
     "iopub.status.idle": "2024-10-10T06:18:19.78246Z",
     "shell.execute_reply": "2024-10-10T06:18:19.781307Z",
     "shell.execute_reply.started": "2024-10-10T06:18:19.774488Z"
    },
    "trusted": true
   },
   "outputs": [],
   "source": [
    "# Building RNN Model\n",
    "def build_rnn_model(input_length):\n",
    "    model = Sequential()\n",
    "    model.add(Embedding(input_dim=5000, output_dim=128, input_length=input_length))\n",
    "    model.add(SimpleRNN(128, return_sequences=False))  # Use SimpleRNN instead of RNN\n",
    "    model.add(Dropout(0.5))\n",
    "    model.add(Dense(1, activation='sigmoid'))  # Binary classification\n",
    "    model.compile(optimizer='adam', loss='binary_crossentropy', metrics=['accuracy'])\n",
    "    return model"
   ]
  },
  {
   "cell_type": "code",
   "execution_count": null,
   "metadata": {
    "execution": {
     "iopub.execute_input": "2024-10-10T06:18:19.784474Z",
     "iopub.status.busy": "2024-10-10T06:18:19.784025Z",
     "iopub.status.idle": "2024-10-10T06:19:50.71418Z",
     "shell.execute_reply": "2024-10-10T06:19:50.713287Z",
     "shell.execute_reply.started": "2024-10-10T06:18:19.784429Z"
    },
    "trusted": true
   },
   "outputs": [],
   "source": [
    "# Training RNN Model\n",
    "rnn_model = build_rnn_model(max_length)\n",
    "rnn_model.fit(X_padded, y_resampled, epochs=10, batch_size=32, validation_split=0.1)"
   ]
  },
  {
   "cell_type": "code",
   "execution_count": null,
   "metadata": {
    "execution": {
     "iopub.execute_input": "2024-10-10T06:19:50.715594Z",
     "iopub.status.busy": "2024-10-10T06:19:50.71529Z",
     "iopub.status.idle": "2024-10-10T06:19:51.484017Z",
     "shell.execute_reply": "2024-10-10T06:19:51.482957Z",
     "shell.execute_reply.started": "2024-10-10T06:19:50.715562Z"
    },
    "trusted": true
   },
   "outputs": [],
   "source": [
    "# Evaluate RNN Model\n",
    "y_pred_rnn = rnn_model.predict(X_test_padded)\n",
    "y_pred_rnn = (y_pred_rnn > 0.5).astype(int) "
   ]
  },
  {
   "cell_type": "code",
   "execution_count": null,
   "metadata": {
    "execution": {
     "iopub.execute_input": "2024-10-10T06:19:51.486968Z",
     "iopub.status.busy": "2024-10-10T06:19:51.485318Z",
     "iopub.status.idle": "2024-10-10T06:19:51.507569Z",
     "shell.execute_reply": "2024-10-10T06:19:51.506625Z",
     "shell.execute_reply.started": "2024-10-10T06:19:51.486931Z"
    },
    "trusted": true
   },
   "outputs": [],
   "source": [
    "# Classification Report\n",
    "print(\"RNN Classification Report:\\n\", classification_report(y_test, y_pred_rnn))"
   ]
  },
  {
   "cell_type": "code",
   "execution_count": null,
   "metadata": {
    "execution": {
     "iopub.execute_input": "2024-10-10T06:19:51.509171Z",
     "iopub.status.busy": "2024-10-10T06:19:51.508591Z",
     "iopub.status.idle": "2024-10-10T06:19:51.516222Z",
     "shell.execute_reply": "2024-10-10T06:19:51.51526Z",
     "shell.execute_reply.started": "2024-10-10T06:19:51.509134Z"
    },
    "trusted": true
   },
   "outputs": [],
   "source": [
    "# Confusion Matrix\n",
    "conf_matrix_rnn = confusion_matrix(y_test, y_pred_rnn)\n",
    "print(\"RNN Confusion Matrix:\\n\", conf_matrix_rnn)"
   ]
  },
  {
   "cell_type": "code",
   "execution_count": null,
   "metadata": {
    "execution": {
     "iopub.execute_input": "2024-10-10T06:19:51.517851Z",
     "iopub.status.busy": "2024-10-10T06:19:51.517433Z",
     "iopub.status.idle": "2024-10-10T06:19:51.805443Z",
     "shell.execute_reply": "2024-10-10T06:19:51.804762Z",
     "shell.execute_reply.started": "2024-10-10T06:19:51.517796Z"
    },
    "trusted": true
   },
   "outputs": [],
   "source": [
    "# Visualizing the confusion matrix\n",
    "plt.figure(figsize=(8, 6))\n",
    "sns.heatmap(conf_matrix_rnn, annot=True, fmt='d', cmap='Blues', \n",
    "            xticklabels=['Real', 'Fake'], yticklabels=['Real', 'Fake'])\n",
    "plt.title('RNN Confusion Matrix')\n",
    "plt.ylabel('Actual')\n",
    "plt.xlabel('Predicted')\n",
    "plt.show()"
   ]
  },
  {
   "cell_type": "code",
   "execution_count": null,
   "metadata": {},
   "outputs": [],
   "source": []
  }
 ],
 "metadata": {
  "kaggle": {
   "accelerator": "gpu",
   "dataSources": [
    {
     "datasetId": 533871,
     "sourceId": 976879,
     "sourceType": "datasetVersion"
    }
   ],
   "dockerImageVersionId": 30786,
   "isGpuEnabled": true,
   "isInternetEnabled": false,
   "language": "python",
   "sourceType": "notebook"
  },
  "kernelspec": {
   "display_name": "Python 3",
   "language": "python",
   "name": "python3"
  },
  "language_info": {
   "codemirror_mode": {
    "name": "ipython",
    "version": 3
   },
   "file_extension": ".py",
   "mimetype": "text/x-python",
   "name": "python",
   "nbconvert_exporter": "python",
   "pygments_lexer": "ipython3",
   "version": "3.10.14"
  }
 },
 "nbformat": 4,
 "nbformat_minor": 4
}
